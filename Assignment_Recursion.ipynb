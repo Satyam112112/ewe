{
 "cells": [
  {
   "cell_type": "markdown",
   "id": "454678fd",
   "metadata": {},
   "source": [
    "### Q.1 Can you explain the logic and working of the Tower of Hanoi algorithm by writing a Python program? How does the recursion work, and how are the movements of disks between rods accomplished?"
   ]
  },
  {
   "cell_type": "code",
   "execution_count": 1,
   "id": "ddff8d59",
   "metadata": {},
   "outputs": [
    {
     "name": "stdout",
     "output_type": "stream",
     "text": [
      "Move disk 1 from A to C\n",
      "Move disk 2 from A to B\n",
      "Move disk 1 from C to B\n",
      "Move disk 3 from A to C\n",
      "Move disk 1 from B to A\n",
      "Move disk 2 from B to C\n",
      "Move disk 1 from A to C\n"
     ]
    }
   ],
   "source": [
    "def tower_of_hanoi(n, source, target, auxiliary):\n",
    "    if n > 0:\n",
    "        tower_of_hanoi(n-1, source, auxiliary, target)\n",
    "        \n",
    "        print(f\"Move disk {n} from {source} to {target}\")\n",
    "        \n",
    "        tower_of_hanoi(n-1, auxiliary, target, source)\n",
    "\n",
    "num_disks = 3\n",
    "tower_of_hanoi(num_disks, 'A', 'C', 'B')"
   ]
  },
  {
   "cell_type": "markdown",
   "id": "d345aa4d",
   "metadata": {},
   "source": [
    "### Q.2 Given two strings `word1` and `word2`, return the minimum number of operations required to convert `word1` to `word2`.\n",
    "\n",
    "#### Example 1:\n",
    "- **Input:** `word1 = \"horse\"`, `word2 = \"ros\"`\n",
    "- **Output:** `3`\n",
    "- **Explanation:**\n",
    "  - `horse` -> `rorse` (replace 'h' with 'r')\n",
    "  - `rorse` -> `rose` (remove 'r')\n",
    "  - `rose` -> `ros` (remove 'e')\n",
    "\n",
    "#### Example 2:\n",
    "- **Input:** `word1 = \"intention\"`, `word2 = \"execution\"`\n",
    "- **Output:** `5`\n",
    "- **Explanation:**\n",
    "  - `intention` -> `inention` (remove 't')\n",
    "  - `inention` -> `enention` (replace 'i' with 'e')\n",
    "  - `enention` -> `exention` (replace 'n' with 'x')\n",
    "  - `exention` -> `exection` (replace 'n' with 'c')\n",
    "  - `exection` -> `execution` (insert 'u')\n"
   ]
  },
  {
   "cell_type": "code",
   "execution_count": 2,
   "id": "36805f2c",
   "metadata": {},
   "outputs": [
    {
     "name": "stdout",
     "output_type": "stream",
     "text": [
      "3\n",
      "5\n"
     ]
    }
   ],
   "source": [
    "def minDistance(word1, word2):\n",
    "    m, n = len(word1), len(word2)\n",
    "    \n",
    "    dp = [[0] * (n + 1) for _ in range(m + 1)]\n",
    "\n",
    "    for i in range(m + 1):\n",
    "        dp[i][0] = i\n",
    "    for j in range(n + 1):\n",
    "        dp[0][j] = j\n",
    "\n",
    "    for i in range(1, m + 1):\n",
    "        for j in range(1, n + 1):\n",
    "            if word1[i - 1] == word2[j - 1]:\n",
    "                dp[i][j] = dp[i - 1][j - 1]\n",
    "            else:\n",
    "                dp[i][j] = 1 + min(dp[i - 1][j],\n",
    "                                  dp[i][j - 1],\n",
    "                                  dp[i - 1][j - 1])\n",
    "\n",
    "    return dp[m][n]\n",
    "\n",
    "word1_1, word2_1 = \"horse\", \"ros\"\n",
    "word1_2, word2_2 = \"intention\", \"execution\"\n",
    "\n",
    "print(minDistance(word1_1, word2_1))\n",
    "print(minDistance(word1_2, word2_2))"
   ]
  },
  {
   "cell_type": "markdown",
   "id": "12719ddb",
   "metadata": {},
   "source": [
    "### Q.3 Print the max value of the array [ 13, 1, -3, 22, 5]."
   ]
  },
  {
   "cell_type": "code",
   "execution_count": 3,
   "id": "933de4f1",
   "metadata": {},
   "outputs": [
    {
     "name": "stdout",
     "output_type": "stream",
     "text": [
      "22\n"
     ]
    }
   ],
   "source": [
    "arr = [13, 1, -3, 22, 5]\n",
    "max_value = max(arr)\n",
    "print(max_value)"
   ]
  },
  {
   "cell_type": "markdown",
   "id": "c3557ba5",
   "metadata": {},
   "source": [
    "### Q.4 Find the sum of the values of the array [92, 23, 15, -20, 10]."
   ]
  },
  {
   "cell_type": "code",
   "execution_count": 4,
   "id": "1df8aeae",
   "metadata": {},
   "outputs": [
    {
     "name": "stdout",
     "output_type": "stream",
     "text": [
      "120\n"
     ]
    }
   ],
   "source": [
    "arr = [92, 23, 15, -20, 10]\n",
    "sum_values = sum(arr)\n",
    "print(sum_values)"
   ]
  },
  {
   "cell_type": "raw",
   "id": "678ea200-4db3-47da-80d4-63cae857aef0",
   "metadata": {},
   "source": [
    "Q.5 Given a number `n`, print if it is an Armstrong number or not. \n",
    "\n",
    "An Armstrong number is a number where the sum of every digit in that number, raised to the power of the total number of digits, is equal to the number itself.\n"
   ]
  },
  {
   "cell_type": "code",
   "execution_count": 5,
   "id": "f75ba960",
   "metadata": {},
   "outputs": [
    {
     "name": "stdout",
     "output_type": "stream",
     "text": [
      "Output1: Yes\n",
      "Output2: No\n"
     ]
    }
   ],
   "source": [
    "def is_armstrong_number(n):\n",
    "    num_str = str(n)\n",
    "    num_digits = len(num_str)\n",
    "    \n",
    "    armstrong_sum = sum(int(digit) ** num_digits for digit in num_str)\n",
    "    \n",
    "    return armstrong_sum == n\n",
    "\n",
    "# Example usage:\n",
    "input_1 = 153\n",
    "input_2 = 134\n",
    "\n",
    "output_1 = is_armstrong_number(input_1)\n",
    "output_2 = is_armstrong_number(input_2)\n",
    "\n",
    "print(\"Output1:\", \"Yes\" if output_1 else \"No\")\n",
    "print(\"Output2:\", \"Yes\" if output_2 else \"No\")"
   ]
  },
  {
   "cell_type": "markdown",
   "id": "c88d639a",
   "metadata": {},
   "source": []
  }
 ],
 "metadata": {
  "kernelspec": {
   "display_name": "Python 3 (ipykernel)",
   "language": "python",
   "name": "python3"
  },
  "language_info": {
   "codemirror_mode": {
    "name": "ipython",
    "version": 3
   },
   "file_extension": ".py",
   "mimetype": "text/x-python",
   "name": "python",
   "nbconvert_exporter": "python",
   "pygments_lexer": "ipython3",
   "version": "3.13.2"
  }
 },
 "nbformat": 4,
 "nbformat_minor": 5
}
