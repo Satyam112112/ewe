{
 "cells": [
  {
   "cell_type": "markdown",
   "id": "7bf11c27-23a7-41b4-a20e-0a74b6ca4ceb",
   "metadata": {},
   "source": [
    "# TOPIC: Python Basics Variable"
   ]
  },
  {
   "cell_type": "markdown",
   "id": "6edc9948-c196-4f84-90ac-802a011de8b2",
   "metadata": {},
   "source": [
    "1. Declare two variables, `x` and `y`, and assign them integer values. Swap the\n",
    "values of these variables without using any temporary variable."
   ]
  },
  {
   "cell_type": "code",
   "execution_count": 3,
   "id": "23668bea-a6a0-4901-9534-32eab92e2d82",
   "metadata": {},
   "outputs": [
    {
     "name": "stdout",
     "output_type": "stream",
     "text": [
      "one x is  98\n",
      "one y is  100\n",
      "----------\n",
      "two x is  100\n",
      "one y is  98\n"
     ]
    }
   ],
   "source": [
    "x = 98 \n",
    "print(\"one x is \", x)\n",
    "y = 100 \n",
    "print(\"one y is \", y)\n",
    "print('-'*10)\n",
    "x, y = y, x\n",
    "print(\"two x is \", x)\n",
    "print(\"one y is \", y)"
   ]
  },
  {
   "cell_type": "markdown",
   "id": "c0fe10e9-5f39-4df8-8f05-cca78ab53a3e",
   "metadata": {},
   "source": [
    "2. Create a program that calculates the area of a rectangle. Take the length and\n",
    "width as inputs from the user and store them in variables. Calculate and\n",
    "display the area."
   ]
  },
  {
   "cell_type": "code",
   "execution_count": 4,
   "id": "4e1194e7-2293-4dad-973a-03d942ca387e",
   "metadata": {},
   "outputs": [
    {
     "name": "stdin",
     "output_type": "stream",
     "text": [
      "Enter length of Rectangle 10\n",
      "Enter width of Rectangle 5\n"
     ]
    },
    {
     "name": "stdout",
     "output_type": "stream",
     "text": [
      "Area of Rectangle 50\n"
     ]
    }
   ],
   "source": [
    "length = int(input(\"Enter length of Rectangle\"))\n",
    "width =  int(input(\"Enter width of Rectangle\"))\n",
    "\n",
    "area = width * length\n",
    "print(\"Area of Rectangle\", area)"
   ]
  },
  {
   "cell_type": "markdown",
   "id": "bc76f88f-81ca-4424-8ef8-23a1e9ee7aac",
   "metadata": {},
   "source": [
    "3. Write a Python program that converts temperatures from Celsius to\n",
    "Fahrenheit. Take the temperature in Celsius as input, store it in a variable,\n",
    "convert it to Fahrenheit, and display the result."
   ]
  },
  {
   "cell_type": "code",
   "execution_count": 5,
   "id": "061bd61f-252d-4e12-b73e-697fca5e4119",
   "metadata": {},
   "outputs": [
    {
     "name": "stdin",
     "output_type": "stream",
     "text": [
      "Enter Temperature in Celcius 94\n"
     ]
    },
    {
     "name": "stdout",
     "output_type": "stream",
     "text": [
      "Temprature in Celcius :  94\n",
      "Temperature in Fahrenheit is :  201.2\n"
     ]
    }
   ],
   "source": [
    "celcius = int(input(\"Enter Temperature in Celcius\"))\n",
    "Fahrenheit = (celcius * 9/5)+ 32\n",
    "print(\"Temprature in Celcius : \", celcius)\n",
    "print(\"Temperature in Fahrenheit is : \",Fahrenheit)"
   ]
  },
  {
   "cell_type": "markdown",
   "id": "02edcd9f-71e3-4758-9bc2-dfbfd5b316f4",
   "metadata": {},
   "source": [
    "# TOPIC: String Based Questions"
   ]
  },
  {
   "cell_type": "markdown",
   "id": "7410720e-5fca-496d-b5d6-fa1df581b0ac",
   "metadata": {},
   "source": [
    "1. Write a Python program that takes a string as input and prints the length of\n",
    "the string."
   ]
  },
  {
   "cell_type": "code",
   "execution_count": 6,
   "id": "6048ca0b-8836-4177-8d5f-d2851025e20f",
   "metadata": {},
   "outputs": [
    {
     "name": "stdin",
     "output_type": "stream",
     "text": [
      "Enter string or word satyam\n"
     ]
    },
    {
     "name": "stdout",
     "output_type": "stream",
     "text": [
      "String is :  satyam\n",
      "length of String : 6\n"
     ]
    }
   ],
   "source": [
    "string = input(\"Enter string or word\")\n",
    "print(\"String is : \", string)\n",
    "print(\"length of String :\", len(string))"
   ]
  },
  {
   "cell_type": "markdown",
   "id": "ff350754-afe4-4273-98e6-013347662c5a",
   "metadata": {},
   "source": [
    "2. Create a program that takes a sentence from the user and counts the number\n",
    "of vowels (a, e, i, o, u) in the string."
   ]
  },
  {
   "cell_type": "code",
   "execution_count": 7,
   "id": "78604b4e-c652-4935-b796-376c9df0da21",
   "metadata": {},
   "outputs": [
    {
     "name": "stdin",
     "output_type": "stream",
     "text": [
      "Enter sentence i want to become a data scientist engineer\n"
     ]
    },
    {
     "name": "stdout",
     "output_type": "stream",
     "text": [
      "Sentence is : i want to become a data scientist engineer\n",
      "Count of a 4\n",
      "Count of e 6\n",
      "Count of i 4\n",
      "Count of o 2\n",
      "Count of u 0\n"
     ]
    }
   ],
   "source": [
    "sent = input(\"Enter sentence\")\n",
    "print(\"Sentence is :\",sent)\n",
    "print(\"Count of a\",sent.count('a'))\n",
    "print(\"Count of e\",sent.count('e'))\n",
    "print(\"Count of i\",sent.count('i'))\n",
    "print(\"Count of o\",sent.count('o'))\n",
    "print(\"Count of u\",sent.count('u'))"
   ]
  },
  {
   "cell_type": "markdown",
   "id": "080b0cfe-50a8-4545-b78a-d2b4af0737a3",
   "metadata": {},
   "source": [
    "3. Given a string, reverse the order of characters using string slicing and print\n",
    "the reversed string."
   ]
  },
  {
   "cell_type": "code",
   "execution_count": 9,
   "id": "3b32bbdc-457d-4e16-88f8-064e79f56db0",
   "metadata": {},
   "outputs": [
    {
     "name": "stdout",
     "output_type": "stream",
     "text": [
      "original String:  Hello\n",
      "reversed String:  olleH\n"
     ]
    }
   ],
   "source": [
    "string1 = 'Hello'\n",
    "print(\"original String: \", string1)\n",
    "print(\"reversed String: \", string1[::-1])"
   ]
  },
  {
   "cell_type": "markdown",
   "id": "7ff1738e-0529-4617-9f7f-7e9168d6b4b2",
   "metadata": {},
   "source": [
    "4. Write a program that takes a string as input and checks if it is a palindrome\n",
    "(reads the same forwards and backwards)."
   ]
  },
  {
   "cell_type": "code",
   "execution_count": 14,
   "id": "67a65e91-f58d-4cd4-90f3-10deff4ab514",
   "metadata": {},
   "outputs": [
    {
     "name": "stdout",
     "output_type": "stream",
     "text": [
      "String is :  mom\n",
      "String is palindrome\n"
     ]
    }
   ],
   "source": [
    "a = 'mom'\n",
    "print(\"String is : \",a)\n",
    "if a[::-1] == a:\n",
    "    print(\"String is palindrome\")\n",
    "else:\n",
    "    print(\"String is not palindrome\")"
   ]
  },
  {
   "cell_type": "markdown",
   "id": "c543b28d-4b47-4023-ba6c-9b118db788a7",
   "metadata": {},
   "source": [
    "5. Create a program that takes a string as input and removes all the spaces from\n",
    "it. Print the modified string without spaces."
   ]
  },
  {
   "cell_type": "code",
   "execution_count": 18,
   "id": "2e8c6325-03c1-4bc2-811e-9aa3fb275461",
   "metadata": {},
   "outputs": [
    {
     "name": "stdout",
     "output_type": "stream",
     "text": [
      "String before removing spaces:  my self satyam gupta\n",
      "String after removing spaces: myselfsatyamgupta\n"
     ]
    }
   ],
   "source": [
    "a = \"my self satyam gupta\"\n",
    "print(\"String before removing spaces: \",a)\n",
    "a = a.replace(\" \",\"\")\n",
    "print(\"String after removing spaces:\",a)"
   ]
  }
 ],
 "metadata": {
  "kernelspec": {
   "display_name": "Python 3 (ipykernel)",
   "language": "python",
   "name": "python3"
  },
  "language_info": {
   "codemirror_mode": {
    "name": "ipython",
    "version": 3
   },
   "file_extension": ".py",
   "mimetype": "text/x-python",
   "name": "python",
   "nbconvert_exporter": "python",
   "pygments_lexer": "ipython3",
   "version": "3.12.3"
  }
 },
 "nbformat": 4,
 "nbformat_minor": 5
}
