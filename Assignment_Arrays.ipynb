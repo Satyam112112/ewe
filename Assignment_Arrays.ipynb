{
 "cells": [
  {
   "cell_type": "markdown",
   "metadata": {},
   "source": [
    "### 1. **Given an array, check if it contains any duplicates or not.**\n",
    "```python\n",
    "arr = [1, 2, 4, 2, 5, 9]\n",
    "# Output: True\n",
    "```"
   ]
  },
  {
   "cell_type": "code",
   "execution_count": 1,
   "metadata": {},
   "outputs": [
    {
     "name": "stdout",
     "output_type": "stream",
     "text": [
      "True\n"
     ]
    }
   ],
   "source": [
    "def has_duplicates(arr):\n",
    "    for i in range(len(arr)):\n",
    "        for j in range(i + 1, len(arr)):\n",
    "            if arr[i] == arr[j]:\n",
    "                return True\n",
    "    return False\n",
    "\n",
    "arr = [1, 2, 4, 2, 5, 9]\n",
    "print(has_duplicates(arr))"
   ]
  },
  {
   "cell_type": "markdown",
   "metadata": {},
   "source": [
    "### 2. **Given an array and an integer k, rotate the array to the right by k steps.**\n",
    "```python\n",
    "arr = [1, 2, 3, 4, 5, 6, 7]\n",
    "k = 3\n",
    "# Output: [5, 6, 7, 1, 2, 3, 4]\n",
    "```"
   ]
  },
  {
   "cell_type": "code",
   "execution_count": 2,
   "metadata": {},
   "outputs": [
    {
     "name": "stdout",
     "output_type": "stream",
     "text": [
      "[5, 6, 7, 1, 2, 3, 4]\n"
     ]
    }
   ],
   "source": [
    "def rotate_array(arr, k):\n",
    "    k = k % len(arr)\n",
    "    arr[:] = arr[-k:] + arr[:-k]\n",
    "\n",
    "arr = [1, 2, 3, 4, 5, 6, 7]\n",
    "k = 3\n",
    "rotate_array(arr, k)\n",
    "print(arr)"
   ]
  },
  {
   "cell_type": "markdown",
   "metadata": {},
   "source": [
    "### 3. **Reverse the given array in-place, means without using any extra data structure.**\n",
    "```python\n",
    "arr = [2, 4, 5, 7, 9, 12]\n",
    "# Output: [12, 9, 7, 5, 4, 2]\n",
    "```"
   ]
  },
  {
   "cell_type": "code",
   "execution_count": 3,
   "metadata": {},
   "outputs": [
    {
     "name": "stdout",
     "output_type": "stream",
     "text": [
      "[12, 9, 7, 5, 4, 2]\n"
     ]
    }
   ],
   "source": [
    "def reverse_array_in_place(arr):\n",
    "    start = 0\n",
    "    end = len(arr) - 1\n",
    "    while start < end:\n",
    "        arr[start], arr[end] = arr[end], arr[start]\n",
    "        start += 1\n",
    "        end -= 1\n",
    "\n",
    "arr = [2, 4, 5, 7, 9, 12]\n",
    "reverse_array_in_place(arr)\n",
    "print(arr)"
   ]
  },
  {
   "cell_type": "markdown",
   "metadata": {},
   "source": [
    "### 4. **Given an array of integers, find the maximum element in an array.**\n",
    "```python\n",
    "arr = [10, 5, 20, 8, 15]\n",
    "# Output: 20\n",
    "```"
   ]
  },
  {
   "cell_type": "code",
   "execution_count": 4,
   "metadata": {},
   "outputs": [
    {
     "name": "stdout",
     "output_type": "stream",
     "text": [
      "20\n"
     ]
    }
   ],
   "source": [
    "def find_max_element(arr):\n",
    "    max_element = arr[0]\n",
    "    for element in arr:\n",
    "        if element > max_element:\n",
    "            max_element = element\n",
    "    return max_element\n",
    "\n",
    "arr = [10, 5, 20, 8, 15]\n",
    "print(find_max_element(arr))"
   ]
  },
  {
   "cell_type": "markdown",
   "metadata": {},
   "source": [
    "### 5. **Given a sorted array, remove the duplicate element without using any extra data structure.**\n",
    "```python\n",
    "arr = [1, 1, 2, 2, 2, 3, 3, 4, 4, 4, 5, 5]\n",
    "# Output: [1, 2, 3, 4, 5]\n",
    "```"
   ]
  },
  {
   "cell_type": "code",
   "execution_count": 5,
   "metadata": {},
   "outputs": [
    {
     "name": "stdout",
     "output_type": "stream",
     "text": [
      "[1, 2, 3, 4, 5]\n"
     ]
    }
   ],
   "source": [
    "def remove_duplicates_from_sorted_array(arr):\n",
    "    if len(arr) == 0:\n",
    "        return []\n",
    "\n",
    "    unique_index = 0\n",
    "    for i in range(1, len(arr)):\n",
    "        if arr[i] != arr[unique_index]:\n",
    "            unique_index += 1\n",
    "            arr[unique_index] = arr[i]\n",
    "    \n",
    "    return arr[:unique_index+1]\n",
    "\n",
    "arr = [1, 1, 2, 2, 2, 3, 3, 4, 4, 4, 5, 5]\n",
    "result = remove_duplicates_from_sorted_array(arr)\n",
    "print(result)"
   ]
  }
 ],
 "metadata": {
  "kernelspec": {
   "display_name": "Python 3 (ipykernel)",
   "language": "python",
   "name": "python3"
  },
  "language_info": {
   "codemirror_mode": {
    "name": "ipython",
    "version": 3
   },
   "file_extension": ".py",
   "mimetype": "text/x-python",
   "name": "python",
   "nbconvert_exporter": "python",
   "pygments_lexer": "ipython3",
   "version": "3.13.2"
  }
 },
 "nbformat": 4,
 "nbformat_minor": 4
}
